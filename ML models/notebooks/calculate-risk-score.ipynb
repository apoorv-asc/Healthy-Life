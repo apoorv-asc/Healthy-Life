{
 "cells": [
  {
   "cell_type": "code",
   "execution_count": 1,
   "id": "7dfedf1d",
   "metadata": {
    "_cell_guid": "b1076dfc-b9ad-4769-8c92-a6c4dae69d19",
    "_uuid": "8f2839f25d086af736a60e9eeb907d3b93b6e0e5",
    "execution": {
     "iopub.execute_input": "2022-10-16T12:22:50.004349Z",
     "iopub.status.busy": "2022-10-16T12:22:50.003934Z",
     "iopub.status.idle": "2022-10-16T12:22:50.018585Z",
     "shell.execute_reply": "2022-10-16T12:22:50.017075Z"
    },
    "papermill": {
     "duration": 0.023023,
     "end_time": "2022-10-16T12:22:50.021015",
     "exception": false,
     "start_time": "2022-10-16T12:22:49.997992",
     "status": "completed"
    },
    "tags": []
   },
   "outputs": [
    {
     "name": "stdout",
     "output_type": "stream",
     "text": [
      "/kaggle/input/risk-score-of-patients/patients.csv\n"
     ]
    }
   ],
   "source": [
    "# This Python 3 environment comes with many helpful analytics libraries installed\n",
    "# It is defined by the kaggle/python Docker image: https://github.com/kaggle/docker-python\n",
    "# For example, here's several helpful packages to load\n",
    "\n",
    "import numpy as np # linear algebra\n",
    "import pandas as pd # data processing, CSV file I/O (e.g. pd.read_csv)\n",
    "\n",
    "# Input data files are available in the read-only \"../input/\" directory\n",
    "# For example, running this (by clicking run or pressing Shift+Enter) will list all files under the input directory\n",
    "\n",
    "import os\n",
    "for dirname, _, filenames in os.walk('/kaggle/input'):\n",
    "    for filename in filenames:\n",
    "        print(os.path.join(dirname, filename))\n",
    "\n",
    "# You can write up to 20GB to the current directory (/kaggle/working/) that gets preserved as output when you create a version using \"Save & Run All\" \n",
    "# You can also write temporary files to /kaggle/temp/, but they won't be saved outside of the current session"
   ]
  },
  {
   "cell_type": "markdown",
   "id": "9f2c975a",
   "metadata": {
    "papermill": {
     "duration": 0.002977,
     "end_time": "2022-10-16T12:22:50.027714",
     "exception": false,
     "start_time": "2022-10-16T12:22:50.024737",
     "status": "completed"
    },
    "tags": []
   },
   "source": [
    "# CHA-DS-VASc score, which predicts a patient's stroke risk when patients "
   ]
  },
  {
   "cell_type": "code",
   "execution_count": 2,
   "id": "f92233b1",
   "metadata": {
    "execution": {
     "iopub.execute_input": "2022-10-16T12:22:50.035559Z",
     "iopub.status.busy": "2022-10-16T12:22:50.035157Z",
     "iopub.status.idle": "2022-10-16T12:22:50.049490Z",
     "shell.execute_reply": "2022-10-16T12:22:50.048395Z"
    },
    "papermill": {
     "duration": 0.020841,
     "end_time": "2022-10-16T12:22:50.051601",
     "exception": false,
     "start_time": "2022-10-16T12:22:50.030760",
     "status": "completed"
    },
    "tags": []
   },
   "outputs": [],
   "source": [
    "def cha2ds2_vasc(age, sex, chf, hypertension, stroke, vascular, diabetes):\n",
    "    \"\"\"\n",
    "    (int,str,bool,bool,bool,bool,bool)\n",
    "    Return the CHA-DS-VASc score, which predicts a patient's stroke risk when patients have an existing \n",
    "    atrial fibrillation. The score ranges from low (0) to high (9).\n",
    "    \n",
    "    >>> cha2ds2_vasc(30,'Female',False,False,False,False,False)\n",
    "    1\n",
    "    \n",
    "    >>> cha2ds2_vasc(65,'Male',False,True,True,False,True)\n",
    "    5\n",
    "    \"\"\"\n",
    "    \n",
    "    AFS_score = 0\n",
    "    history = [chf, hypertension, stroke, vascular, diabetes]\n",
    "    \n",
    "    if age < 65:\n",
    "        AFS_score += 0\n",
    "    elif (age >= 65) and (age <= 74):\n",
    "        AFS_score += 1\n",
    "    else:\n",
    "        AFS_score += 2\n",
    "    \n",
    "    if sex == 'Female':\n",
    "        AFS_score += 1 \n",
    "    else:\n",
    "        AFS_score += 0\n",
    "        \n",
    "    for index,condition in enumerate(history):\n",
    "        if condition == False:\n",
    "            AFS_score += 0\n",
    "        else:\n",
    "            if index == 2:\n",
    "                AFS_score += 2\n",
    "            else:\n",
    "                AFS_score += 1\n",
    "        \n",
    "    return(AFS_score)"
   ]
  },
  {
   "cell_type": "markdown",
   "id": "6940c2a0",
   "metadata": {
    "papermill": {
     "duration": 0.002964,
     "end_time": "2022-10-16T12:22:50.057915",
     "exception": false,
     "start_time": "2022-10-16T12:22:50.054951",
     "status": "completed"
    },
    "tags": []
   },
   "source": [
    "# Framingham Score "
   ]
  },
  {
   "cell_type": "code",
   "execution_count": 3,
   "id": "aff677f0",
   "metadata": {
    "execution": {
     "iopub.execute_input": "2022-10-16T12:22:50.065744Z",
     "iopub.status.busy": "2022-10-16T12:22:50.065361Z",
     "iopub.status.idle": "2022-10-16T12:22:50.079639Z",
     "shell.execute_reply": "2022-10-16T12:22:50.078761Z"
    },
    "papermill": {
     "duration": 0.020814,
     "end_time": "2022-10-16T12:22:50.081872",
     "exception": false,
     "start_time": "2022-10-16T12:22:50.061058",
     "status": "completed"
    },
    "tags": []
   },
   "outputs": [],
   "source": [
    "import math\n",
    "\n",
    "def framingham(age, sex, smoker, cholesterol, hdl, systolic, bp_treated):\n",
    "    \"\"\"\n",
    "    (int,str,bool,int,int,int,bool)\n",
    "    Returns a Framingham risk score, which predicts a patient's risk for hard coronary heart disease for non-diabetic patients.\n",
    "    \n",
    "    >>> framingham(30, 'Female', False, 150, 40, 120, False)\n",
    "    0.0002\n",
    "    >>> framingham(67, 'Female', False, 160, 60, 120, False)\n",
    "    0.0173\n",
    "    \"\"\" \n",
    "\n",
    "    if (age < 30) or (age > 79):\n",
    "        P = -1\n",
    "    \n",
    "    else: \n",
    "        \n",
    "        #Coefficents: male,female \n",
    "        Beta = { 'age':(52.00961,31.764001),'cholesterol':(20.014077,22.465206),\n",
    "                 'hdl':(-0.905964,-1.187731),'systolic':(1.305784,2.552905),\n",
    "                 'bp_treated':(0.241549,0.420251),'smoker':(12.096316,13.07543),\n",
    "                 'age_cholesterol':(-4.605038,-5.060998),'age_smoker':(-2.84367,-2.996945),\n",
    "                 'age_age':(-2.93323,0)\n",
    "               }\n",
    "\n",
    "        #Adjustments for males, age_smoker\n",
    "        if sex == 'Male':\n",
    "                s = 0\n",
    "                constant = 0.9402\n",
    "                y_intercept = -172.300168\n",
    "\n",
    "                #Adjustment for male age > 70\n",
    "                if age > 70:\n",
    "                    age_smoker = (Beta['age_smoker'][s])*(math.log(70)* int(smoker))\n",
    "                else:\n",
    "                    age_smoker = (Beta['age_smoker'][s])*(math.log(age)*int(smoker))     \n",
    "\n",
    "        #Adjustments for females, age_smoker\n",
    "        else:\n",
    "                s = 1\n",
    "                constant = 0.98767\n",
    "                y_intercept = -146.5933061\n",
    "\n",
    "                #Adjustment for female age > 78 (irrelevant -> P = -1)\n",
    "                if age > 78:\n",
    "                    age_smoker = (Beta['age_smoker'][s])*(math.log(78)*int(smoker))\n",
    "                else:\n",
    "                    age_smoker = (Beta['age_smoker'][s])*(math.log(age)*int(smoker))   \n",
    "\n",
    "        #Calculate formula \n",
    "        L = [ (Beta['age'][s])*math.log(age) + (Beta['cholesterol'][s])*math.log(cholesterol) + (Beta['hdl'][s])*math.log(hdl) + \n",
    "              (Beta['systolic'][s])*math.log(systolic) + (Beta['bp_treated'][s])*int(bp_treated) + (Beta['smoker'][s])*int(smoker) + \n",
    "              (Beta['age_cholesterol'][s])*(math.log(age)*math.log(cholesterol)) + age_smoker + \n",
    "              (Beta['age_age'][s])*(math.log(age)*math.log(age)) + y_intercept\n",
    "            ]\n",
    "        \n",
    "        P = 1 - constant**(math.exp(L[0]))\n",
    "            \n",
    "    return(round(P,4))       "
   ]
  },
  {
   "cell_type": "markdown",
   "id": "47b0f5e8",
   "metadata": {
    "papermill": {
     "duration": 0.003005,
     "end_time": "2022-10-16T12:22:50.088124",
     "exception": false,
     "start_time": "2022-10-16T12:22:50.085119",
     "status": "completed"
    },
    "tags": []
   },
   "source": [
    "# Heart Score"
   ]
  },
  {
   "cell_type": "code",
   "execution_count": 4,
   "id": "7231833f",
   "metadata": {
    "execution": {
     "iopub.execute_input": "2022-10-16T12:22:50.095926Z",
     "iopub.status.busy": "2022-10-16T12:22:50.095541Z",
     "iopub.status.idle": "2022-10-16T12:22:50.104636Z",
     "shell.execute_reply": "2022-10-16T12:22:50.103608Z"
    },
    "papermill": {
     "duration": 0.015533,
     "end_time": "2022-10-16T12:22:50.106755",
     "exception": false,
     "start_time": "2022-10-16T12:22:50.091222",
     "status": "completed"
    },
    "tags": []
   },
   "outputs": [],
   "source": [
    "def heart(history, ekg, age, risks, troponin):\n",
    "    \"\"\"\n",
    "    (str,str,int,int,float) -> int\n",
    "    Returns a HEART score, which predicts a patient's risk for major cardiac events from 0 (low) to 10 (high).\n",
    "    \n",
    "    >>> heart('Slightly suspicious','Normal',30, 0, 0)\n",
    "    0\n",
    "    >>> heart('Highly suspicious','Significant ST deviation',71, 7, 5)\n",
    "    10\n",
    "    \"\"\"\n",
    "    \n",
    "    heart_score = 0\n",
    "    \n",
    "    if history.split()[0] == 'Slightly':\n",
    "        heart_score += 0 \n",
    "    elif history.split()[0] == 'Moderately':\n",
    "        heart_score += 1 \n",
    "    else:\n",
    "        heart_score += 2\n",
    "    \n",
    "    if ekg.split()[0] == 'Normal':\n",
    "        heart_score += 0\n",
    "    elif ekg.split()[0] == 'Non-specific':\n",
    "        heart_score += 1\n",
    "    else: \n",
    "        heart_score += 2\n",
    "    \n",
    "    if age < 45:\n",
    "        heart_score += 0  \n",
    "    elif (age >= 45) and (age <= 64):\n",
    "        heart_score += 1\n",
    "    else:\n",
    "        heart_score += 2\n",
    "        \n",
    "    if risks == 0:\n",
    "        heart_score += 0\n",
    "    elif (risks == 1) or (risks == 2):\n",
    "        heart_score += 1\n",
    "    else:\n",
    "        heart_score += 2\n",
    "        \n",
    "    if troponin <= 1.0:\n",
    "        heart_score += 0\n",
    "    elif (troponin > 1.0) and (troponin <= 3.0):\n",
    "        heart_score += 1\n",
    "    else:\n",
    "        heart_score += 2\n",
    "        \n",
    "    return(heart_score)"
   ]
  },
  {
   "cell_type": "markdown",
   "id": "56e130af",
   "metadata": {
    "papermill": {
     "duration": 0.002963,
     "end_time": "2022-10-16T12:22:50.112685",
     "exception": false,
     "start_time": "2022-10-16T12:22:50.109722",
     "status": "completed"
    },
    "tags": []
   },
   "source": [
    "## A patient is classified as \"High Risk\" if they meet all three criteria below:\n",
    "\n",
    "CHA2DS2_VASc >= 2\n",
    "HEART >= 4\n",
    "Framingham >= 3%"
   ]
  },
  {
   "cell_type": "code",
   "execution_count": 5,
   "id": "8f7130e4",
   "metadata": {
    "execution": {
     "iopub.execute_input": "2022-10-16T12:22:50.120457Z",
     "iopub.status.busy": "2022-10-16T12:22:50.119797Z",
     "iopub.status.idle": "2022-10-16T12:22:50.131001Z",
     "shell.execute_reply": "2022-10-16T12:22:50.130235Z"
    },
    "papermill": {
     "duration": 0.017231,
     "end_time": "2022-10-16T12:22:50.132916",
     "exception": false,
     "start_time": "2022-10-16T12:22:50.115685",
     "status": "completed"
    },
    "tags": []
   },
   "outputs": [],
   "source": [
    "import pandas as pd\n",
    "import numpy as np\n",
    "\n",
    "def patient_scores(filename): \n",
    "    \"\"\" \n",
    "    (csv file) -> List\n",
    "    Returns a list that contains patients id, common risk scores, and their calculated high risk \n",
    "    (formula based on predictive health scores). \n",
    "    \"\"\"\n",
    "    patients = pd.read_csv(filename)\n",
    "    \n",
    "    #manipulate patient data \n",
    "    patients.rename(columns={'chf history':'chf',\n",
    "                         'hypertension history':'hypertension',\n",
    "                         'stroke history':'stroke',\n",
    "                         'vascular disease history': 'vascular',\n",
    "                         'diabetes history':'diabetes',\n",
    "                         'risk factors':'risks',\n",
    "                         'total cholesterol':'cholesterol',\n",
    "                         'hdl cholesterol':'hdl',\n",
    "                         'systolic bp':'systolic',\n",
    "                         'bp medicine':'bp_treated'},inplace=True)\n",
    "    patients['sex']=patients['sex'].replace({'M':'Male','F':'Female'})\n",
    "    patients.replace({'Yes':True,'No':False},inplace=True)\n",
    "    \n",
    "    #add scores as columns in patients \n",
    "    patients['CHA2DS2_VASc'] = np.vectorize(cha2ds2_vasc)(patients.age, patients.sex, patients.chf, patients.hypertension, patients.stroke, patients.vascular, patients.diabetes)\n",
    "    patients['HEART'] = np.vectorize(heart)(patients.history, patients.ekg, patients.age, patients.risks, patients.troponin)\n",
    "    patients['Framingham']=np.vectorize(framingham,otypes=[float])(patients.age, patients.sex, patients.smoker, patients.cholesterol, patients.hdl, patients.systolic, patients.bp_treated)\n",
    "\n",
    "    #determine/add High Risk column in patients \n",
    "    conditions = [\n",
    "        (patients.CHA2DS2_VASc >= 2) & (patients.HEART >= 4) & (patients.Framingham*100 >= 3.0),\n",
    "        (patients.CHA2DS2_VASc < 2) & (patients.HEART < 4) & (patients.Framingham*100 < 3.0)\n",
    "    ]\n",
    "\n",
    "    values = [True,False]  \n",
    "    patients['High Risk']=np.select(conditions,values)\n",
    "    patients['High Risk'].replace({1:True,0:False},inplace=True)\n",
    "    \n",
    "    #create list for each patient \n",
    "    answers = patients[['CHA2DS2_VASc','HEART','Framingham','High Risk']].values.tolist()\n",
    "    \n",
    "    return(answers)\n"
   ]
  },
  {
   "cell_type": "code",
   "execution_count": 6,
   "id": "8ae04ae2",
   "metadata": {
    "execution": {
     "iopub.execute_input": "2022-10-16T12:22:50.142077Z",
     "iopub.status.busy": "2022-10-16T12:22:50.141146Z",
     "iopub.status.idle": "2022-10-16T12:22:50.185953Z",
     "shell.execute_reply": "2022-10-16T12:22:50.184897Z"
    },
    "papermill": {
     "duration": 0.051285,
     "end_time": "2022-10-16T12:22:50.188326",
     "exception": false,
     "start_time": "2022-10-16T12:22:50.137041",
     "status": "completed"
    },
    "tags": []
   },
   "outputs": [
    {
     "data": {
      "text/plain": [
       "[[7, 7, -1.0, False],\n",
       " [2, 3, -1.0, False],\n",
       " [7, 4, 0.0015, False],\n",
       " [5, 5, -1.0, False],\n",
       " [3, 4, 0.005, False],\n",
       " [6, 7, -1.0, False],\n",
       " [2, 4, -1.0, False],\n",
       " [4, 8, 0.0391, True],\n",
       " [6, 6, -1.0, False],\n",
       " [2, 7, 0.0437, True],\n",
       " [6, 5, -1.0, False],\n",
       " [3, 2, 0.0465, False],\n",
       " [4, 5, 0.0189, False],\n",
       " [3, 2, -1.0, False],\n",
       " [5, 4, 0.0016, False],\n",
       " [3, 7, 0.0126, False],\n",
       " [1, 6, 0.0126, False],\n",
       " [2, 4, 0.0153, False],\n",
       " [4, 3, 0.0183, False],\n",
       " [9, 7, 0.0239, False],\n",
       " [2, 3, -1.0, False],\n",
       " [4, 6, -1.0, False],\n",
       " [3, 7, 0.0053, False],\n",
       " [5, 2, 0.0142, False],\n",
       " [4, 6, -1.0, False],\n",
       " [5, 5, 0.1098, True],\n",
       " [3, 7, 0.0709, True],\n",
       " [5, 6, 0.0293, False],\n",
       " [3, 3, 0.0244, False]]"
      ]
     },
     "execution_count": 6,
     "metadata": {},
     "output_type": "execute_result"
    }
   ],
   "source": [
    "res = patient_scores('../input/risk-score-of-patients/patients.csv')\n",
    "res"
   ]
  },
  {
   "cell_type": "code",
   "execution_count": null,
   "id": "add1e8d8",
   "metadata": {
    "papermill": {
     "duration": 0.003287,
     "end_time": "2022-10-16T12:22:50.195195",
     "exception": false,
     "start_time": "2022-10-16T12:22:50.191908",
     "status": "completed"
    },
    "tags": []
   },
   "outputs": [],
   "source": []
  }
 ],
 "metadata": {
  "kernelspec": {
   "display_name": "Python 3",
   "language": "python",
   "name": "python3"
  },
  "language_info": {
   "codemirror_mode": {
    "name": "ipython",
    "version": 3
   },
   "file_extension": ".py",
   "mimetype": "text/x-python",
   "name": "python",
   "nbconvert_exporter": "python",
   "pygments_lexer": "ipython3",
   "version": "3.7.12"
  },
  "papermill": {
   "default_parameters": {},
   "duration": 8.832295,
   "end_time": "2022-10-16T12:22:50.818226",
   "environment_variables": {},
   "exception": null,
   "input_path": "__notebook__.ipynb",
   "output_path": "__notebook__.ipynb",
   "parameters": {},
   "start_time": "2022-10-16T12:22:41.985931",
   "version": "2.3.4"
  }
 },
 "nbformat": 4,
 "nbformat_minor": 5
}
